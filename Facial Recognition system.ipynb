{
 "cells": [
  {
   "cell_type": "markdown",
   "id": "266ecc16",
   "metadata": {},
   "source": [
    "# Smiling Face Recognition System"
   ]
  },
  {
   "cell_type": "code",
   "execution_count": 1,
   "id": "586e0868",
   "metadata": {},
   "outputs": [],
   "source": [
    "#Import the Opencv Library\n",
    "import cv2"
   ]
  },
  {
   "cell_type": "code",
   "execution_count": 2,
   "id": "5d9a2355",
   "metadata": {},
   "outputs": [],
   "source": [
    "#Extracting the opencv haarcascade classifier\n",
    "face_cascade = cv2.CascadeClassifier(cv2.data.haarcascades + \"haarcascade_frontalface_default.xml\")\n",
    "eye_cascade = cv2.CascadeClassifier(cv2.data.haarcascades + \"haarcascade_eye.xml\")\n",
    "smile_cascade = cv2.CascadeClassifier(cv2.data.haarcascades + \"haarcascade_smile.xml\")"
   ]
  },
  {
   "cell_type": "code",
   "execution_count": 3,
   "id": "36ae1377",
   "metadata": {},
   "outputs": [],
   "source": [
    "#Create a function to detect the face, eye and smile utilizing a grayscale mechanism\n",
    "def detect(gray, frame):\n",
    "    face = face_cascade.detectMultiScale(gray, 1.3, 5)\n",
    "    for (x, y, w, h) in face:\n",
    "        cv2.rectangle(frame, (x,y), (x+w, y+h), (255,0,0), 3)\n",
    "        roi_gray = gray[y:y+h, x:x+w]\n",
    "        roi_color = frame[y:y+h, x:x+w]\n",
    "        \n",
    "        eyes = eye_cascade.detectMultiScale(gray, 1.1, 3)\n",
    "        for (ex, ey, ew, eh) in eyes:\n",
    "            cv2.rectangle(frame, (ex,ey), (ex+ew, ey+eh), (255,0,0), 2)\n",
    "            \n",
    "            \n",
    "        smile = smile_cascade.detectMultiScale(gray, 1.7, 22)\n",
    "        for (sx, sy, sw, sh) in smile:\n",
    "            cv2.rectangle(frame, (sx,sy), (sx+sw, sy+sh), (255,0,0), 2)\n",
    "        \n",
    "        \n",
    "    return frame"
   ]
  },
  {
   "cell_type": "code",
   "execution_count": 4,
   "id": "9c347097",
   "metadata": {},
   "outputs": [],
   "source": [
    "#Apply the funtion to local webcam\n",
    "capture = cv2.VideoCapture(0)   # 0 - Local webcam and 1 - External webcam\n",
    "\n",
    "while True:\n",
    "    _, frame = capture.read()\n",
    "    gray = cv2.cvtColor(frame, cv2.COLOR_BGR2GRAY)\n",
    "    canvas = detect(gray, frame)\n",
    "    cv2.imshow(\"Video\", canvas)\n",
    "    if cv2.waitKey(1) & 0xff == ord(\"q\"):\n",
    "        break\n",
    "capture.release()\n",
    "cv2.destroyAllWindows()"
   ]
  },
  {
   "cell_type": "code",
   "execution_count": null,
   "id": "1c05b6be",
   "metadata": {},
   "outputs": [],
   "source": [
    "\n"
   ]
  }
 ],
 "metadata": {
  "kernelspec": {
   "display_name": "Python 3 (ipykernel)",
   "language": "python",
   "name": "python3"
  },
  "language_info": {
   "codemirror_mode": {
    "name": "ipython",
    "version": 3
   },
   "file_extension": ".py",
   "mimetype": "text/x-python",
   "name": "python",
   "nbconvert_exporter": "python",
   "pygments_lexer": "ipython3",
   "version": "3.9.13"
  }
 },
 "nbformat": 4,
 "nbformat_minor": 5
}
